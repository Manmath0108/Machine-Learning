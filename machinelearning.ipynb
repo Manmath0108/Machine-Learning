{
 "cells": [
  {
   "cell_type": "code",
   "execution_count": 15,
   "id": "5e6f1711",
   "metadata": {},
   "outputs": [
    {
     "name": "stdout",
     "output_type": "stream",
     "text": [
      "huggingface/tokenizers: The current process just got forked, after parallelism has already been used. Disabling parallelism to avoid deadlocks...\n",
      "To disable this warning, you can either:\n",
      "\t- Avoid using `tokenizers` before the fork if possible\n",
      "\t- Explicitly set the environment variable TOKENIZERS_PARALLELISM=(true | false)\n",
      "Requirement already satisfied: indic-nlp-library in /home/manmath/miniconda3/envs/bia_genai_2/lib/python3.11/site-packages (0.92)\n",
      "Requirement already satisfied: sphinx-argparse in /home/manmath/miniconda3/envs/bia_genai_2/lib/python3.11/site-packages (from indic-nlp-library) (0.5.2)\n",
      "Requirement already satisfied: sphinx-rtd-theme in /home/manmath/miniconda3/envs/bia_genai_2/lib/python3.11/site-packages (from indic-nlp-library) (3.0.2)\n",
      "Requirement already satisfied: morfessor in /home/manmath/miniconda3/envs/bia_genai_2/lib/python3.11/site-packages (from indic-nlp-library) (2.0.6)\n",
      "Requirement already satisfied: pandas in /home/manmath/miniconda3/envs/bia_genai_2/lib/python3.11/site-packages (from indic-nlp-library) (2.2.3)\n",
      "Requirement already satisfied: numpy in /home/manmath/miniconda3/envs/bia_genai_2/lib/python3.11/site-packages (from indic-nlp-library) (2.2.6)\n",
      "Requirement already satisfied: python-dateutil>=2.8.2 in /home/manmath/miniconda3/envs/bia_genai_2/lib/python3.11/site-packages (from pandas->indic-nlp-library) (2.9.0.post0)\n",
      "Requirement already satisfied: pytz>=2020.1 in /home/manmath/miniconda3/envs/bia_genai_2/lib/python3.11/site-packages (from pandas->indic-nlp-library) (2025.2)\n",
      "Requirement already satisfied: tzdata>=2022.7 in /home/manmath/miniconda3/envs/bia_genai_2/lib/python3.11/site-packages (from pandas->indic-nlp-library) (2025.2)\n",
      "Requirement already satisfied: six>=1.5 in /home/manmath/miniconda3/envs/bia_genai_2/lib/python3.11/site-packages (from python-dateutil>=2.8.2->pandas->indic-nlp-library) (1.17.0)\n",
      "Requirement already satisfied: sphinx>=5.1.0 in /home/manmath/miniconda3/envs/bia_genai_2/lib/python3.11/site-packages (from sphinx-argparse->indic-nlp-library) (8.2.3)\n",
      "Requirement already satisfied: docutils>=0.19 in /home/manmath/miniconda3/envs/bia_genai_2/lib/python3.11/site-packages (from sphinx-argparse->indic-nlp-library) (0.21.2)\n",
      "Requirement already satisfied: sphinxcontrib-applehelp>=1.0.7 in /home/manmath/miniconda3/envs/bia_genai_2/lib/python3.11/site-packages (from sphinx>=5.1.0->sphinx-argparse->indic-nlp-library) (2.0.0)\n",
      "Requirement already satisfied: sphinxcontrib-devhelp>=1.0.6 in /home/manmath/miniconda3/envs/bia_genai_2/lib/python3.11/site-packages (from sphinx>=5.1.0->sphinx-argparse->indic-nlp-library) (2.0.0)\n",
      "Requirement already satisfied: sphinxcontrib-htmlhelp>=2.0.6 in /home/manmath/miniconda3/envs/bia_genai_2/lib/python3.11/site-packages (from sphinx>=5.1.0->sphinx-argparse->indic-nlp-library) (2.1.0)\n",
      "Requirement already satisfied: sphinxcontrib-jsmath>=1.0.1 in /home/manmath/miniconda3/envs/bia_genai_2/lib/python3.11/site-packages (from sphinx>=5.1.0->sphinx-argparse->indic-nlp-library) (1.0.1)\n",
      "Requirement already satisfied: sphinxcontrib-qthelp>=1.0.6 in /home/manmath/miniconda3/envs/bia_genai_2/lib/python3.11/site-packages (from sphinx>=5.1.0->sphinx-argparse->indic-nlp-library) (2.0.0)\n",
      "Requirement already satisfied: sphinxcontrib-serializinghtml>=1.1.9 in /home/manmath/miniconda3/envs/bia_genai_2/lib/python3.11/site-packages (from sphinx>=5.1.0->sphinx-argparse->indic-nlp-library) (2.0.0)\n",
      "Requirement already satisfied: Jinja2>=3.1 in /home/manmath/miniconda3/envs/bia_genai_2/lib/python3.11/site-packages (from sphinx>=5.1.0->sphinx-argparse->indic-nlp-library) (3.1.6)\n",
      "Requirement already satisfied: Pygments>=2.17 in /home/manmath/miniconda3/envs/bia_genai_2/lib/python3.11/site-packages (from sphinx>=5.1.0->sphinx-argparse->indic-nlp-library) (2.19.1)\n",
      "Requirement already satisfied: snowballstemmer>=2.2 in /home/manmath/miniconda3/envs/bia_genai_2/lib/python3.11/site-packages (from sphinx>=5.1.0->sphinx-argparse->indic-nlp-library) (3.0.1)\n",
      "Requirement already satisfied: babel>=2.13 in /home/manmath/miniconda3/envs/bia_genai_2/lib/python3.11/site-packages (from sphinx>=5.1.0->sphinx-argparse->indic-nlp-library) (2.17.0)\n",
      "Requirement already satisfied: alabaster>=0.7.14 in /home/manmath/miniconda3/envs/bia_genai_2/lib/python3.11/site-packages (from sphinx>=5.1.0->sphinx-argparse->indic-nlp-library) (1.0.0)\n",
      "Requirement already satisfied: imagesize>=1.3 in /home/manmath/miniconda3/envs/bia_genai_2/lib/python3.11/site-packages (from sphinx>=5.1.0->sphinx-argparse->indic-nlp-library) (1.4.1)\n",
      "Requirement already satisfied: requests>=2.30.0 in /home/manmath/miniconda3/envs/bia_genai_2/lib/python3.11/site-packages (from sphinx>=5.1.0->sphinx-argparse->indic-nlp-library) (2.32.3)\n",
      "Requirement already satisfied: roman-numerals-py>=1.0.0 in /home/manmath/miniconda3/envs/bia_genai_2/lib/python3.11/site-packages (from sphinx>=5.1.0->sphinx-argparse->indic-nlp-library) (3.1.0)\n",
      "Requirement already satisfied: packaging>=23.0 in /home/manmath/miniconda3/envs/bia_genai_2/lib/python3.11/site-packages (from sphinx>=5.1.0->sphinx-argparse->indic-nlp-library) (24.2)\n",
      "Requirement already satisfied: MarkupSafe>=2.0 in /home/manmath/miniconda3/envs/bia_genai_2/lib/python3.11/site-packages (from Jinja2>=3.1->sphinx>=5.1.0->sphinx-argparse->indic-nlp-library) (3.0.2)\n",
      "Requirement already satisfied: charset-normalizer<4,>=2 in /home/manmath/miniconda3/envs/bia_genai_2/lib/python3.11/site-packages (from requests>=2.30.0->sphinx>=5.1.0->sphinx-argparse->indic-nlp-library) (3.4.2)\n",
      "Requirement already satisfied: idna<4,>=2.5 in /home/manmath/miniconda3/envs/bia_genai_2/lib/python3.11/site-packages (from requests>=2.30.0->sphinx>=5.1.0->sphinx-argparse->indic-nlp-library) (3.10)\n",
      "Requirement already satisfied: urllib3<3,>=1.21.1 in /home/manmath/miniconda3/envs/bia_genai_2/lib/python3.11/site-packages (from requests>=2.30.0->sphinx>=5.1.0->sphinx-argparse->indic-nlp-library) (2.4.0)\n",
      "Requirement already satisfied: certifi>=2017.4.17 in /home/manmath/miniconda3/envs/bia_genai_2/lib/python3.11/site-packages (from requests>=2.30.0->sphinx>=5.1.0->sphinx-argparse->indic-nlp-library) (2025.4.26)\n",
      "Requirement already satisfied: sphinxcontrib-jquery<5,>=4 in /home/manmath/miniconda3/envs/bia_genai_2/lib/python3.11/site-packages (from sphinx-rtd-theme->indic-nlp-library) (4.1)\n",
      "\n",
      "\u001b[1m[\u001b[0m\u001b[34;49mnotice\u001b[0m\u001b[1;39;49m]\u001b[0m\u001b[39;49m A new release of pip is available: \u001b[0m\u001b[31;49m25.1.1\u001b[0m\u001b[39;49m -> \u001b[0m\u001b[32;49m25.2\u001b[0m\n",
      "\u001b[1m[\u001b[0m\u001b[34;49mnotice\u001b[0m\u001b[1;39;49m]\u001b[0m\u001b[39;49m To update, run: \u001b[0m\u001b[32;49mpip install --upgrade pip\u001b[0m\n",
      "Note: you may need to restart the kernel to use updated packages.\n"
     ]
    }
   ],
   "source": [
    "%pip install indic-nlp-library"
   ]
  },
  {
   "cell_type": "code",
   "execution_count": 16,
   "id": "2678f86a",
   "metadata": {},
   "outputs": [
    {
     "name": "stdout",
     "output_type": "stream",
     "text": [
      "All Imports Successful!\n"
     ]
    }
   ],
   "source": [
    "import pandas as pd\n",
    "import numpy as np\n",
    "from transformers import AutoTokenizer\n",
    "import torch\n",
    "from indicnlp.tokenize import indic_tokenize\n",
    "\n",
    "print('All Imports Successful!')"
   ]
  },
  {
   "cell_type": "code",
   "execution_count": 17,
   "id": "5422e54c",
   "metadata": {},
   "outputs": [],
   "source": [
    "data = pd.read_csv(\"/home/manmath/Downloads/sample-dataset-master/Sentence pairs in English-Hindi - 2025-02-11.tsv\", sep=\"\\t\", header=None, names=[\"SrcSentId\", \"SrcSent\", \"DstSentId\", \"DstSent\"])"
   ]
  },
  {
   "cell_type": "code",
   "execution_count": 18,
   "id": "14497311",
   "metadata": {},
   "outputs": [
    {
     "data": {
      "text/html": [
       "<div>\n",
       "<style scoped>\n",
       "    .dataframe tbody tr th:only-of-type {\n",
       "        vertical-align: middle;\n",
       "    }\n",
       "\n",
       "    .dataframe tbody tr th {\n",
       "        vertical-align: top;\n",
       "    }\n",
       "\n",
       "    .dataframe thead th {\n",
       "        text-align: right;\n",
       "    }\n",
       "</style>\n",
       "<table border=\"1\" class=\"dataframe\">\n",
       "  <thead>\n",
       "    <tr style=\"text-align: right;\">\n",
       "      <th></th>\n",
       "      <th>SrcSentId</th>\n",
       "      <th>SrcSent</th>\n",
       "      <th>DstSentId</th>\n",
       "      <th>DstSent</th>\n",
       "    </tr>\n",
       "  </thead>\n",
       "  <tbody>\n",
       "    <tr>\n",
       "      <th>0</th>\n",
       "      <td>1282</td>\n",
       "      <td>Muiriel is 20 now.</td>\n",
       "      <td>485968</td>\n",
       "      <td>म्यूरियल अब बीस साल की हो गई है।</td>\n",
       "    </tr>\n",
       "    <tr>\n",
       "      <th>1</th>\n",
       "      <td>1282</td>\n",
       "      <td>Muiriel is 20 now.</td>\n",
       "      <td>2060319</td>\n",
       "      <td>म्यूरियल अब बीस साल की है।</td>\n",
       "    </tr>\n",
       "    <tr>\n",
       "      <th>2</th>\n",
       "      <td>1294</td>\n",
       "      <td>Education in this world disappoints me.</td>\n",
       "      <td>485564</td>\n",
       "      <td>मैं इस दुनिया में शिक्षा पर बहुत निराश हूँ।</td>\n",
       "    </tr>\n",
       "    <tr>\n",
       "      <th>3</th>\n",
       "      <td>1302</td>\n",
       "      <td>That won't happen.</td>\n",
       "      <td>2060320</td>\n",
       "      <td>वैसा नहीं होगा।</td>\n",
       "    </tr>\n",
       "    <tr>\n",
       "      <th>4</th>\n",
       "      <td>1308</td>\n",
       "      <td>I miss you.</td>\n",
       "      <td>2060321</td>\n",
       "      <td>मुझें तुम्हारी याद आ रही है।</td>\n",
       "    </tr>\n",
       "  </tbody>\n",
       "</table>\n",
       "</div>"
      ],
      "text/plain": [
       "   SrcSentId                                  SrcSent  DstSentId  \\\n",
       "0       1282                       Muiriel is 20 now.     485968   \n",
       "1       1282                       Muiriel is 20 now.    2060319   \n",
       "2       1294  Education in this world disappoints me.     485564   \n",
       "3       1302                       That won't happen.    2060320   \n",
       "4       1308                              I miss you.    2060321   \n",
       "\n",
       "                                       DstSent  \n",
       "0             म्यूरियल अब बीस साल की हो गई है।  \n",
       "1                   म्यूरियल अब बीस साल की है।  \n",
       "2  मैं इस दुनिया में शिक्षा पर बहुत निराश हूँ।  \n",
       "3                              वैसा नहीं होगा।  \n",
       "4                 मुझें तुम्हारी याद आ रही है।  "
      ]
     },
     "execution_count": 18,
     "metadata": {},
     "output_type": "execute_result"
    }
   ],
   "source": [
    "data.head()"
   ]
  },
  {
   "cell_type": "code",
   "execution_count": 19,
   "id": "5551eb6b",
   "metadata": {},
   "outputs": [],
   "source": [
    "data.drop(labels=[data.columns[0], data.columns[2]], axis=1, inplace=True)"
   ]
  },
  {
   "cell_type": "code",
   "execution_count": 20,
   "id": "d0f87612",
   "metadata": {},
   "outputs": [
    {
     "data": {
      "text/html": [
       "<div>\n",
       "<style scoped>\n",
       "    .dataframe tbody tr th:only-of-type {\n",
       "        vertical-align: middle;\n",
       "    }\n",
       "\n",
       "    .dataframe tbody tr th {\n",
       "        vertical-align: top;\n",
       "    }\n",
       "\n",
       "    .dataframe thead th {\n",
       "        text-align: right;\n",
       "    }\n",
       "</style>\n",
       "<table border=\"1\" class=\"dataframe\">\n",
       "  <thead>\n",
       "    <tr style=\"text-align: right;\">\n",
       "      <th></th>\n",
       "      <th>SrcSent</th>\n",
       "      <th>DstSent</th>\n",
       "    </tr>\n",
       "  </thead>\n",
       "  <tbody>\n",
       "    <tr>\n",
       "      <th>0</th>\n",
       "      <td>Muiriel is 20 now.</td>\n",
       "      <td>म्यूरियल अब बीस साल की हो गई है।</td>\n",
       "    </tr>\n",
       "    <tr>\n",
       "      <th>1</th>\n",
       "      <td>Muiriel is 20 now.</td>\n",
       "      <td>म्यूरियल अब बीस साल की है।</td>\n",
       "    </tr>\n",
       "    <tr>\n",
       "      <th>2</th>\n",
       "      <td>Education in this world disappoints me.</td>\n",
       "      <td>मैं इस दुनिया में शिक्षा पर बहुत निराश हूँ।</td>\n",
       "    </tr>\n",
       "    <tr>\n",
       "      <th>3</th>\n",
       "      <td>That won't happen.</td>\n",
       "      <td>वैसा नहीं होगा।</td>\n",
       "    </tr>\n",
       "    <tr>\n",
       "      <th>4</th>\n",
       "      <td>I miss you.</td>\n",
       "      <td>मुझें तुम्हारी याद आ रही है।</td>\n",
       "    </tr>\n",
       "  </tbody>\n",
       "</table>\n",
       "</div>"
      ],
      "text/plain": [
       "                                   SrcSent  \\\n",
       "0                       Muiriel is 20 now.   \n",
       "1                       Muiriel is 20 now.   \n",
       "2  Education in this world disappoints me.   \n",
       "3                       That won't happen.   \n",
       "4                              I miss you.   \n",
       "\n",
       "                                       DstSent  \n",
       "0             म्यूरियल अब बीस साल की हो गई है।  \n",
       "1                   म्यूरियल अब बीस साल की है।  \n",
       "2  मैं इस दुनिया में शिक्षा पर बहुत निराश हूँ।  \n",
       "3                              वैसा नहीं होगा।  \n",
       "4                 मुझें तुम्हारी याद आ रही है।  "
      ]
     },
     "execution_count": 20,
     "metadata": {},
     "output_type": "execute_result"
    }
   ],
   "source": [
    "data.head()"
   ]
  },
  {
   "cell_type": "code",
   "execution_count": 21,
   "id": "9be368f3",
   "metadata": {},
   "outputs": [
    {
     "name": "stderr",
     "output_type": "stream",
     "text": [
      "/home/manmath/miniconda3/envs/bia_genai_2/lib/python3.11/site-packages/huggingface_hub/file_download.py:943: FutureWarning: `resume_download` is deprecated and will be removed in version 1.0.0. Downloads always resume when possible. If you want to force a new download, use `force_download=True`.\n",
      "  warnings.warn(\n"
     ]
    },
    {
     "name": "stdout",
     "output_type": "stream",
     "text": [
      "Model Called\n"
     ]
    }
   ],
   "source": [
    "src_sent_tokenizer = AutoTokenizer.from_pretrained(\"google-T5/T5-base\")\n",
    "print(\"Model Called\")"
   ]
  },
  {
   "cell_type": "code",
   "execution_count": 22,
   "id": "7bdd1693",
   "metadata": {},
   "outputs": [],
   "source": [
    "data[\"SrcSent\"] = data[\"SrcSent\"].apply(lambda x: src_sent_tokenizer.tokenize(x))"
   ]
  },
  {
   "cell_type": "code",
   "execution_count": 23,
   "id": "9e0c82b4",
   "metadata": {},
   "outputs": [
    {
     "data": {
      "text/html": [
       "<div>\n",
       "<style scoped>\n",
       "    .dataframe tbody tr th:only-of-type {\n",
       "        vertical-align: middle;\n",
       "    }\n",
       "\n",
       "    .dataframe tbody tr th {\n",
       "        vertical-align: top;\n",
       "    }\n",
       "\n",
       "    .dataframe thead th {\n",
       "        text-align: right;\n",
       "    }\n",
       "</style>\n",
       "<table border=\"1\" class=\"dataframe\">\n",
       "  <thead>\n",
       "    <tr style=\"text-align: right;\">\n",
       "      <th></th>\n",
       "      <th>SrcSent</th>\n",
       "      <th>DstSent</th>\n",
       "    </tr>\n",
       "  </thead>\n",
       "  <tbody>\n",
       "    <tr>\n",
       "      <th>0</th>\n",
       "      <td>[▁Mu, i, riel, ▁is, ▁20, ▁now, .]</td>\n",
       "      <td>म्यूरियल अब बीस साल की हो गई है।</td>\n",
       "    </tr>\n",
       "    <tr>\n",
       "      <th>1</th>\n",
       "      <td>[▁Mu, i, riel, ▁is, ▁20, ▁now, .]</td>\n",
       "      <td>म्यूरियल अब बीस साल की है।</td>\n",
       "    </tr>\n",
       "    <tr>\n",
       "      <th>2</th>\n",
       "      <td>[▁Education, ▁in, ▁this, ▁world, ▁disappoint, ...</td>\n",
       "      <td>मैं इस दुनिया में शिक्षा पर बहुत निराश हूँ।</td>\n",
       "    </tr>\n",
       "    <tr>\n",
       "      <th>3</th>\n",
       "      <td>[▁That, ▁won, ', t, ▁happen, .]</td>\n",
       "      <td>वैसा नहीं होगा।</td>\n",
       "    </tr>\n",
       "    <tr>\n",
       "      <th>4</th>\n",
       "      <td>[▁I, ▁miss, ▁you, .]</td>\n",
       "      <td>मुझें तुम्हारी याद आ रही है।</td>\n",
       "    </tr>\n",
       "  </tbody>\n",
       "</table>\n",
       "</div>"
      ],
      "text/plain": [
       "                                             SrcSent  \\\n",
       "0                  [▁Mu, i, riel, ▁is, ▁20, ▁now, .]   \n",
       "1                  [▁Mu, i, riel, ▁is, ▁20, ▁now, .]   \n",
       "2  [▁Education, ▁in, ▁this, ▁world, ▁disappoint, ...   \n",
       "3                    [▁That, ▁won, ', t, ▁happen, .]   \n",
       "4                               [▁I, ▁miss, ▁you, .]   \n",
       "\n",
       "                                       DstSent  \n",
       "0             म्यूरियल अब बीस साल की हो गई है।  \n",
       "1                   म्यूरियल अब बीस साल की है।  \n",
       "2  मैं इस दुनिया में शिक्षा पर बहुत निराश हूँ।  \n",
       "3                              वैसा नहीं होगा।  \n",
       "4                 मुझें तुम्हारी याद आ रही है।  "
      ]
     },
     "execution_count": 23,
     "metadata": {},
     "output_type": "execute_result"
    }
   ],
   "source": [
    "data.head()"
   ]
  },
  {
   "cell_type": "code",
   "execution_count": 25,
   "id": "ea010bb8",
   "metadata": {},
   "outputs": [],
   "source": [
    "data[\"DstSent\"] = data[\"DstSent\"].apply(lambda x: indic_tokenize.trivial_tokenize(x, lang=\"hi\"))"
   ]
  },
  {
   "cell_type": "code",
   "execution_count": 26,
   "id": "182d5580",
   "metadata": {},
   "outputs": [
    {
     "data": {
      "text/html": [
       "<div>\n",
       "<style scoped>\n",
       "    .dataframe tbody tr th:only-of-type {\n",
       "        vertical-align: middle;\n",
       "    }\n",
       "\n",
       "    .dataframe tbody tr th {\n",
       "        vertical-align: top;\n",
       "    }\n",
       "\n",
       "    .dataframe thead th {\n",
       "        text-align: right;\n",
       "    }\n",
       "</style>\n",
       "<table border=\"1\" class=\"dataframe\">\n",
       "  <thead>\n",
       "    <tr style=\"text-align: right;\">\n",
       "      <th></th>\n",
       "      <th>SrcSent</th>\n",
       "      <th>DstSent</th>\n",
       "    </tr>\n",
       "  </thead>\n",
       "  <tbody>\n",
       "    <tr>\n",
       "      <th>0</th>\n",
       "      <td>[▁Mu, i, riel, ▁is, ▁20, ▁now, .]</td>\n",
       "      <td>[म्यूरियल, अब, बीस, साल, की, हो, गई, है, ।]</td>\n",
       "    </tr>\n",
       "    <tr>\n",
       "      <th>1</th>\n",
       "      <td>[▁Mu, i, riel, ▁is, ▁20, ▁now, .]</td>\n",
       "      <td>[म्यूरियल, अब, बीस, साल, की, है, ।]</td>\n",
       "    </tr>\n",
       "    <tr>\n",
       "      <th>2</th>\n",
       "      <td>[▁Education, ▁in, ▁this, ▁world, ▁disappoint, ...</td>\n",
       "      <td>[मैं, इस, दुनिया, में, शिक्षा, पर, बहुत, निराश...</td>\n",
       "    </tr>\n",
       "    <tr>\n",
       "      <th>3</th>\n",
       "      <td>[▁That, ▁won, ', t, ▁happen, .]</td>\n",
       "      <td>[वैसा, नहीं, होगा, ।]</td>\n",
       "    </tr>\n",
       "    <tr>\n",
       "      <th>4</th>\n",
       "      <td>[▁I, ▁miss, ▁you, .]</td>\n",
       "      <td>[मुझें, तुम्हारी, याद, आ, रही, है, ।]</td>\n",
       "    </tr>\n",
       "  </tbody>\n",
       "</table>\n",
       "</div>"
      ],
      "text/plain": [
       "                                             SrcSent  \\\n",
       "0                  [▁Mu, i, riel, ▁is, ▁20, ▁now, .]   \n",
       "1                  [▁Mu, i, riel, ▁is, ▁20, ▁now, .]   \n",
       "2  [▁Education, ▁in, ▁this, ▁world, ▁disappoint, ...   \n",
       "3                    [▁That, ▁won, ', t, ▁happen, .]   \n",
       "4                               [▁I, ▁miss, ▁you, .]   \n",
       "\n",
       "                                             DstSent  \n",
       "0        [म्यूरियल, अब, बीस, साल, की, हो, गई, है, ।]  \n",
       "1                [म्यूरियल, अब, बीस, साल, की, है, ।]  \n",
       "2  [मैं, इस, दुनिया, में, शिक्षा, पर, बहुत, निराश...  \n",
       "3                              [वैसा, नहीं, होगा, ।]  \n",
       "4              [मुझें, तुम्हारी, याद, आ, रही, है, ।]  "
      ]
     },
     "execution_count": 26,
     "metadata": {},
     "output_type": "execute_result"
    }
   ],
   "source": [
    "data.head()"
   ]
  }
 ],
 "metadata": {
  "kernelspec": {
   "display_name": "bia_genai_2",
   "language": "python",
   "name": "python3"
  },
  "language_info": {
   "codemirror_mode": {
    "name": "ipython",
    "version": 3
   },
   "file_extension": ".py",
   "mimetype": "text/x-python",
   "name": "python",
   "nbconvert_exporter": "python",
   "pygments_lexer": "ipython3",
   "version": "3.11.11"
  }
 },
 "nbformat": 4,
 "nbformat_minor": 5
}
